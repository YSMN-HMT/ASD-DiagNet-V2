#Data Configuration 

data_main_path = "Write the rois_cc200 data path"
def get_key(file_name):
  f_split = file_name.split('_')
  if f_split[3] == 'rois':
    key = '_'.join(f_split[0:3]) 
  else:
    key = '_'.join(f_split[0:2])
  return key

flist = os.listdir(data_main_path)  
for f in range(len(flist)):
    flist[f] = get_key(flist[f])
    
print((flist)) 

df_labels = pd.read_csv("Write csv data path")
df_labels.DX_GROUP = df_labels.DX_GROUP.map({1: 1, 2:0})

# 539 ASD : label 1
# 573 TD : label 0

labels = {}

for row in df_labels.iterrows():
    file_id = row[1]['FILE_ID']
    y_label = row[1]['DX_GROUP']
    if file_id == 'no_filename':
        continue
    assert (file_id not in labels)
    labels[file_id] = y_label

# print(len(flist))
#print(len(labels))
