#Initially Configurations
#Original PaPer, 2019, ASD-DiagNet: A Hybrid Learning Approach for Detection of Autism Spectrum Disorder Using fMRI.
#Changed to tensorflow 

import tensorflow as tf
from __future__ import absolute_import, division, print_function, unicode_literals
import functools
import os
import pandas as pd
from keras import backend as k
import pdb
from tensorflow import keras
from tensorflow.keras import layers
from keras import regularizers
from keras import optimizers , models

import pandas as pd
import numpy as np
import matplotlib.pyplot as plt
import os
from functools import reduce
from sklearn.impute import SimpleImputer
import time

import sys
import pickle

from sklearn.model_selection import KFold, StratifiedKFold
import torch.optim as optim
from sklearn.metrics import confusion_matrix
from scipy import stats
from sklearn import tree
import functools
import numpy.ma as ma # for masked arrays

import random
from sklearn.svm import SVC
from sklearn.ensemble import RandomForestClassifier


p_ROI = "cc200"
p_fold = 10
p_center = "Stanford"
p_mode = "whole"
p_augmentation = True
p_Method = "ASD-DiagNet"

file_path = "Path of .csv files"

parameter_list = [p_ROI,p_fold,p_center,p_mode,p_augmentation,p_Method]
print("*****List of patameters****")
print("ROI atlas: ",p_ROI)
print("per Center or whole: ",p_mode)
if p_mode == 'percenter':
    print("Center's name: ",p_center)
print("Method's name: ",p_Method)
if p_Method == "ASD-DiagNet":
    print("Augmentation: ",p_augmentation)
